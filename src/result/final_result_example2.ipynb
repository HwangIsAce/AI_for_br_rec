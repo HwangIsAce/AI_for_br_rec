{
 "cells": [
  {
   "cell_type": "markdown",
   "id": "b82476e9-ee86-4d06-9a2f-b980b2260e30",
   "metadata": {},
   "source": [
    "# 라이브러리 설정"
   ]
  },
  {
   "cell_type": "code",
   "execution_count": 125,
   "id": "5282c8f8-fea0-40c5-ae37-71092c70a293",
   "metadata": {},
   "outputs": [],
   "source": [
    "import pandas as pd\n",
    "import pandas_profiling\n",
    "import matplotlib.pyplot as plt\n",
    "import numpy as np\n",
    "from sklearn.metrics import accuracy_score"
   ]
  },
  {
   "cell_type": "code",
   "execution_count": 126,
   "id": "28d5aa44-1062-4828-ba98-046298b8bdc4",
   "metadata": {},
   "outputs": [
    {
     "data": {
      "text/html": [
       "<div>\n",
       "<style scoped>\n",
       "    .dataframe tbody tr th:only-of-type {\n",
       "        vertical-align: middle;\n",
       "    }\n",
       "\n",
       "    .dataframe tbody tr th {\n",
       "        vertical-align: top;\n",
       "    }\n",
       "\n",
       "    .dataframe thead th {\n",
       "        text-align: right;\n",
       "    }\n",
       "</style>\n",
       "<table border=\"1\" class=\"dataframe\">\n",
       "  <thead>\n",
       "    <tr style=\"text-align: right;\">\n",
       "      <th></th>\n",
       "      <th>제품 코드</th>\n",
       "      <th>제품명</th>\n",
       "      <th>원재료명</th>\n",
       "      <th>함량(%)</th>\n",
       "      <th>분류</th>\n",
       "    </tr>\n",
       "  </thead>\n",
       "  <tbody>\n",
       "    <tr>\n",
       "      <th>0</th>\n",
       "      <td>MI-151007-004</td>\n",
       "      <td>칠리소스</td>\n",
       "      <td>토마토페이스트</td>\n",
       "      <td>38.174524</td>\n",
       "      <td>소스</td>\n",
       "    </tr>\n",
       "    <tr>\n",
       "      <th>1</th>\n",
       "      <td>MI-151007-004</td>\n",
       "      <td>칠리소스</td>\n",
       "      <td>양파</td>\n",
       "      <td>13.159478</td>\n",
       "      <td>소스</td>\n",
       "    </tr>\n",
       "    <tr>\n",
       "      <th>2</th>\n",
       "      <td>MI-151007-004</td>\n",
       "      <td>칠리소스</td>\n",
       "      <td>양송이</td>\n",
       "      <td>11.574724</td>\n",
       "      <td>소스</td>\n",
       "    </tr>\n",
       "    <tr>\n",
       "      <th>3</th>\n",
       "      <td>MI-151007-004</td>\n",
       "      <td>칠리소스</td>\n",
       "      <td>향신지미베이스</td>\n",
       "      <td>7.582748</td>\n",
       "      <td>소스</td>\n",
       "    </tr>\n",
       "    <tr>\n",
       "      <th>4</th>\n",
       "      <td>MI-151007-004</td>\n",
       "      <td>칠리소스</td>\n",
       "      <td>베이컨</td>\n",
       "      <td>5.917753</td>\n",
       "      <td>소스</td>\n",
       "    </tr>\n",
       "  </tbody>\n",
       "</table>\n",
       "</div>"
      ],
      "text/plain": [
       "           제품 코드   제품명     원재료명      함량(%)  분류\n",
       "0  MI-151007-004  칠리소스  토마토페이스트  38.174524  소스\n",
       "1  MI-151007-004  칠리소스       양파  13.159478  소스\n",
       "2  MI-151007-004  칠리소스      양송이  11.574724  소스\n",
       "3  MI-151007-004  칠리소스  향신지미베이스   7.582748  소스\n",
       "4  MI-151007-004  칠리소스      베이컨   5.917753  소스"
      ]
     },
     "execution_count": 126,
     "metadata": {},
     "output_type": "execute_result"
    }
   ],
   "source": [
    "pm = pd.read_csv('data/pm_cls.csv') #전처리가 완료된 csv파일 불러오기\n",
    "pm.reset_index(drop=True,inplace=True) #인덱스 초기화\n",
    "#pm.drop('Unnamed: 0',axis=1,inplace=True) #필요없는 컬럼 제거\n",
    "pm.head() #상위 5개의 csv 관찰"
   ]
  },
  {
   "cell_type": "code",
   "execution_count": 127,
   "id": "0437cfa0-de11-4130-9723-e8e7b1bc740a",
   "metadata": {},
   "outputs": [
    {
     "name": "stdout",
     "output_type": "stream",
     "text": [
      "Requirement already satisfied: gensim==3.8.0 in /home/dhpark/anaconda3/envs/py39/lib/python3.9/site-packages (3.8.0)\n",
      "Requirement already satisfied: six>=1.5.0 in /home/dhpark/anaconda3/envs/py39/lib/python3.9/site-packages (from gensim==3.8.0) (1.16.0)\n",
      "Requirement already satisfied: numpy>=1.11.3 in /home/dhpark/anaconda3/envs/py39/lib/python3.9/site-packages (from gensim==3.8.0) (1.22.3)\n",
      "Requirement already satisfied: smart-open>=1.7.0 in /home/dhpark/anaconda3/envs/py39/lib/python3.9/site-packages (from gensim==3.8.0) (5.2.1)\n",
      "Requirement already satisfied: scipy>=0.18.1 in /home/dhpark/anaconda3/envs/py39/lib/python3.9/site-packages (from gensim==3.8.0) (1.9.3)\n",
      "\n",
      "\u001b[1m[\u001b[0m\u001b[34;49mnotice\u001b[0m\u001b[1;39;49m]\u001b[0m\u001b[39;49m A new release of pip available: \u001b[0m\u001b[31;49m22.2.2\u001b[0m\u001b[39;49m -> \u001b[0m\u001b[32;49m22.3\u001b[0m\n",
      "\u001b[1m[\u001b[0m\u001b[34;49mnotice\u001b[0m\u001b[1;39;49m]\u001b[0m\u001b[39;49m To update, run: \u001b[0m\u001b[32;49mpip install --upgrade pip\u001b[0m\n"
     ]
    }
   ],
   "source": [
    "! pip3 install --target=$pg_path gensim==3.8.0 #gensim v3.8.0 이상에서 해야 로딩을 할 수 있음"
   ]
  },
  {
   "cell_type": "code",
   "execution_count": 128,
   "id": "19979d0a-5821-4fd2-8989-87d2d457acab",
   "metadata": {},
   "outputs": [],
   "source": [
    "pm.drop('제품 코드',axis=1,inplace=True)"
   ]
  },
  {
   "cell_type": "markdown",
   "id": "7830c306-8280-4dc5-8ca9-aabd0cd85f3e",
   "metadata": {},
   "source": [
    "# 정답 데이터셋 컬럼 통합하기"
   ]
  },
  {
   "cell_type": "markdown",
   "id": "ccc9e4b9-d7b9-4507-9fc0-4f475dafa116",
   "metadata": {},
   "source": [
    "#### 정답 데이터셋에 대한 데이터프레임 만들기"
   ]
  },
  {
   "cell_type": "code",
   "execution_count": 129,
   "id": "7e770bac-b67d-411a-ae37-d9e96baa6f24",
   "metadata": {},
   "outputs": [
    {
     "data": {
      "text/html": [
       "<div>\n",
       "<style scoped>\n",
       "    .dataframe tbody tr th:only-of-type {\n",
       "        vertical-align: middle;\n",
       "    }\n",
       "\n",
       "    .dataframe tbody tr th {\n",
       "        vertical-align: top;\n",
       "    }\n",
       "\n",
       "    .dataframe thead th {\n",
       "        text-align: right;\n",
       "    }\n",
       "</style>\n",
       "<table border=\"1\" class=\"dataframe\">\n",
       "  <thead>\n",
       "    <tr style=\"text-align: right;\">\n",
       "      <th></th>\n",
       "      <th>제품명</th>\n",
       "      <th>원재료명</th>\n",
       "      <th>함량(%)</th>\n",
       "      <th>분류</th>\n",
       "    </tr>\n",
       "  </thead>\n",
       "  <tbody>\n",
       "    <tr>\n",
       "      <th>0</th>\n",
       "      <td>칠리소스</td>\n",
       "      <td>토마토페이스트</td>\n",
       "      <td>38.174524</td>\n",
       "      <td>소스</td>\n",
       "    </tr>\n",
       "    <tr>\n",
       "      <th>1</th>\n",
       "      <td>칠리소스</td>\n",
       "      <td>양파</td>\n",
       "      <td>13.159478</td>\n",
       "      <td>소스</td>\n",
       "    </tr>\n",
       "    <tr>\n",
       "      <th>2</th>\n",
       "      <td>칠리소스</td>\n",
       "      <td>양송이</td>\n",
       "      <td>11.574724</td>\n",
       "      <td>소스</td>\n",
       "    </tr>\n",
       "    <tr>\n",
       "      <th>3</th>\n",
       "      <td>칠리소스</td>\n",
       "      <td>향신지미베이스</td>\n",
       "      <td>7.582748</td>\n",
       "      <td>소스</td>\n",
       "    </tr>\n",
       "    <tr>\n",
       "      <th>4</th>\n",
       "      <td>칠리소스</td>\n",
       "      <td>베이컨</td>\n",
       "      <td>5.917753</td>\n",
       "      <td>소스</td>\n",
       "    </tr>\n",
       "    <tr>\n",
       "      <th>...</th>\n",
       "      <td>...</td>\n",
       "      <td>...</td>\n",
       "      <td>...</td>\n",
       "      <td>...</td>\n",
       "    </tr>\n",
       "    <tr>\n",
       "      <th>14900</th>\n",
       "      <td>키즈밀_22_실온소스_S4_한돈짜장덮밥소스</td>\n",
       "      <td>멸치가루</td>\n",
       "      <td>0.010000</td>\n",
       "      <td>소스</td>\n",
       "    </tr>\n",
       "    <tr>\n",
       "      <th>14901</th>\n",
       "      <td>키즈밀_22_실온소스_S4_한돈짜장덮밥소스</td>\n",
       "      <td>이소말토올리고당</td>\n",
       "      <td>1.200000</td>\n",
       "      <td>소스</td>\n",
       "    </tr>\n",
       "    <tr>\n",
       "      <th>14902</th>\n",
       "      <td>키즈밀_22_실온소스_S4_한돈짜장덮밥소스</td>\n",
       "      <td>혼합제제</td>\n",
       "      <td>2.000000</td>\n",
       "      <td>소스</td>\n",
       "    </tr>\n",
       "    <tr>\n",
       "      <th>14903</th>\n",
       "      <td>키즈밀_22_실온소스_S4_한돈짜장덮밥소스</td>\n",
       "      <td>우리밀짜장가루</td>\n",
       "      <td>3.300000</td>\n",
       "      <td>소스</td>\n",
       "    </tr>\n",
       "    <tr>\n",
       "      <th>14904</th>\n",
       "      <td>키즈밀_22_실온소스_S4_한돈짜장덮밥소스</td>\n",
       "      <td>정제수</td>\n",
       "      <td>4.000000</td>\n",
       "      <td>소스</td>\n",
       "    </tr>\n",
       "  </tbody>\n",
       "</table>\n",
       "<p>14905 rows × 4 columns</p>\n",
       "</div>"
      ],
      "text/plain": [
       "                           제품명      원재료명      함량(%)  분류\n",
       "0                         칠리소스   토마토페이스트  38.174524  소스\n",
       "1                         칠리소스        양파  13.159478  소스\n",
       "2                         칠리소스       양송이  11.574724  소스\n",
       "3                         칠리소스   향신지미베이스   7.582748  소스\n",
       "4                         칠리소스       베이컨   5.917753  소스\n",
       "...                        ...       ...        ...  ..\n",
       "14900  키즈밀_22_실온소스_S4_한돈짜장덮밥소스      멸치가루   0.010000  소스\n",
       "14901  키즈밀_22_실온소스_S4_한돈짜장덮밥소스  이소말토올리고당   1.200000  소스\n",
       "14902  키즈밀_22_실온소스_S4_한돈짜장덮밥소스      혼합제제   2.000000  소스\n",
       "14903  키즈밀_22_실온소스_S4_한돈짜장덮밥소스   우리밀짜장가루   3.300000  소스\n",
       "14904  키즈밀_22_실온소스_S4_한돈짜장덮밥소스       정제수   4.000000  소스\n",
       "\n",
       "[14905 rows x 4 columns]"
      ]
     },
     "execution_count": 129,
     "metadata": {},
     "output_type": "execute_result"
    }
   ],
   "source": [
    "pulmu = pm.copy()\n",
    "pulmu"
   ]
  },
  {
   "cell_type": "markdown",
   "id": "b2e4bddd-eaee-436c-a75b-291bfa17fe58",
   "metadata": {},
   "source": [
    "#### FastText Training"
   ]
  },
  {
   "cell_type": "code",
   "execution_count": 130,
   "id": "08e75667-a6e0-43c7-9bcf-64f63ff54d1f",
   "metadata": {},
   "outputs": [],
   "source": [
    "import gensim\n",
    "from gensim import models\n",
    "from gensim.models import fasttext\n",
    "from gensim.models.fasttext import FastText\n",
    "from gensim.models import Word2Vec, KeyedVectors"
   ]
  },
  {
   "cell_type": "code",
   "execution_count": 131,
   "id": "f8489fd9-c146-4959-884b-007a97a5f78e",
   "metadata": {},
   "outputs": [],
   "source": [
    "#solution1\n",
    "X_train = list(pulmu['제품명'].unique())"
   ]
  },
  {
   "cell_type": "code",
   "execution_count": 132,
   "id": "a7d326dd-1293-4403-8001-b3c51f56928b",
   "metadata": {},
   "outputs": [],
   "source": [
    "#solution2\n",
    "X_train1 = list(pulmu['제품명'].unique())\n",
    "X_train2 = list(pulmu['원재료명'].unique())\n",
    "X_train = X_train1 + X_train2"
   ]
  },
  {
   "cell_type": "code",
   "execution_count": 133,
   "id": "37727c2d-dbdc-4669-9134-8e405ec8487c",
   "metadata": {},
   "outputs": [
    {
     "name": "stdout",
     "output_type": "stream",
     "text": [
      "CPU times: user 1min 26s, sys: 36.5 s, total: 2min 3s\n",
      "Wall time: 2min 3s\n"
     ]
    }
   ],
   "source": [
    "%%time\n",
    "ft_model = fasttext.load_facebook_model('data/wiki.ko.bin') #FastText 불러오기\n",
    "ft_model.build_vocab(sentences=X_train, update=True)\n",
    "ft_model.train(X_train, total_examples=len(X_train),epochs=10)"
   ]
  },
  {
   "cell_type": "markdown",
   "id": "6d163553-c52c-4651-96bb-c5a0e3d37d62",
   "metadata": {},
   "source": [
    "데이터 프레임 조작"
   ]
  },
  {
   "cell_type": "code",
   "execution_count": 134,
   "id": "050b4c5f-762c-4397-9a23-3df2c9c3072f",
   "metadata": {},
   "outputs": [],
   "source": [
    "total = ['0']*len(pulmu)\n",
    "\n",
    "for i in range(len(pm)):\n",
    "    total[i] = pulmu['원재료명'][i] + ' ' + str(round(pulmu['함량(%)'][i],2))"
   ]
  },
  {
   "cell_type": "code",
   "execution_count": 135,
   "id": "52fed66c-a324-4780-9957-427d760643a6",
   "metadata": {},
   "outputs": [],
   "source": [
    "pulmu['계'] = total"
   ]
  },
  {
   "cell_type": "code",
   "execution_count": 136,
   "id": "54a56d67-5133-4f3d-8c84-2f10ccd260c1",
   "metadata": {},
   "outputs": [],
   "source": [
    "pulmu['함량(%)']=1"
   ]
  },
  {
   "cell_type": "code",
   "execution_count": 137,
   "id": "76d1786d-5d24-4d68-a30d-07610cd4549c",
   "metadata": {},
   "outputs": [
    {
     "data": {
      "text/html": [
       "<div>\n",
       "<style scoped>\n",
       "    .dataframe tbody tr th:only-of-type {\n",
       "        vertical-align: middle;\n",
       "    }\n",
       "\n",
       "    .dataframe tbody tr th {\n",
       "        vertical-align: top;\n",
       "    }\n",
       "\n",
       "    .dataframe thead th {\n",
       "        text-align: right;\n",
       "    }\n",
       "</style>\n",
       "<table border=\"1\" class=\"dataframe\">\n",
       "  <thead>\n",
       "    <tr style=\"text-align: right;\">\n",
       "      <th></th>\n",
       "      <th>제품명</th>\n",
       "      <th>함량(%)</th>\n",
       "      <th>분류</th>\n",
       "      <th>계</th>\n",
       "    </tr>\n",
       "  </thead>\n",
       "  <tbody>\n",
       "    <tr>\n",
       "      <th>0</th>\n",
       "      <td>칠리소스</td>\n",
       "      <td>1</td>\n",
       "      <td>소스</td>\n",
       "      <td>토마토페이스트 38.17</td>\n",
       "    </tr>\n",
       "    <tr>\n",
       "      <th>1</th>\n",
       "      <td>칠리소스</td>\n",
       "      <td>1</td>\n",
       "      <td>소스</td>\n",
       "      <td>양파 13.16</td>\n",
       "    </tr>\n",
       "    <tr>\n",
       "      <th>2</th>\n",
       "      <td>칠리소스</td>\n",
       "      <td>1</td>\n",
       "      <td>소스</td>\n",
       "      <td>양송이 11.57</td>\n",
       "    </tr>\n",
       "    <tr>\n",
       "      <th>3</th>\n",
       "      <td>칠리소스</td>\n",
       "      <td>1</td>\n",
       "      <td>소스</td>\n",
       "      <td>향신지미베이스 7.58</td>\n",
       "    </tr>\n",
       "    <tr>\n",
       "      <th>4</th>\n",
       "      <td>칠리소스</td>\n",
       "      <td>1</td>\n",
       "      <td>소스</td>\n",
       "      <td>베이컨 5.92</td>\n",
       "    </tr>\n",
       "    <tr>\n",
       "      <th>...</th>\n",
       "      <td>...</td>\n",
       "      <td>...</td>\n",
       "      <td>...</td>\n",
       "      <td>...</td>\n",
       "    </tr>\n",
       "    <tr>\n",
       "      <th>14900</th>\n",
       "      <td>키즈밀_22_실온소스_S4_한돈짜장덮밥소스</td>\n",
       "      <td>1</td>\n",
       "      <td>소스</td>\n",
       "      <td>멸치가루 0.01</td>\n",
       "    </tr>\n",
       "    <tr>\n",
       "      <th>14901</th>\n",
       "      <td>키즈밀_22_실온소스_S4_한돈짜장덮밥소스</td>\n",
       "      <td>1</td>\n",
       "      <td>소스</td>\n",
       "      <td>이소말토올리고당 1.2</td>\n",
       "    </tr>\n",
       "    <tr>\n",
       "      <th>14902</th>\n",
       "      <td>키즈밀_22_실온소스_S4_한돈짜장덮밥소스</td>\n",
       "      <td>1</td>\n",
       "      <td>소스</td>\n",
       "      <td>혼합제제 2.0</td>\n",
       "    </tr>\n",
       "    <tr>\n",
       "      <th>14903</th>\n",
       "      <td>키즈밀_22_실온소스_S4_한돈짜장덮밥소스</td>\n",
       "      <td>1</td>\n",
       "      <td>소스</td>\n",
       "      <td>우리밀짜장가루 3.3</td>\n",
       "    </tr>\n",
       "    <tr>\n",
       "      <th>14904</th>\n",
       "      <td>키즈밀_22_실온소스_S4_한돈짜장덮밥소스</td>\n",
       "      <td>1</td>\n",
       "      <td>소스</td>\n",
       "      <td>정제수 4.0</td>\n",
       "    </tr>\n",
       "  </tbody>\n",
       "</table>\n",
       "<p>14905 rows × 4 columns</p>\n",
       "</div>"
      ],
      "text/plain": [
       "                           제품명  함량(%)  분류              계\n",
       "0                         칠리소스      1  소스  토마토페이스트 38.17\n",
       "1                         칠리소스      1  소스       양파 13.16\n",
       "2                         칠리소스      1  소스      양송이 11.57\n",
       "3                         칠리소스      1  소스   향신지미베이스 7.58\n",
       "4                         칠리소스      1  소스       베이컨 5.92\n",
       "...                        ...    ...  ..            ...\n",
       "14900  키즈밀_22_실온소스_S4_한돈짜장덮밥소스      1  소스      멸치가루 0.01\n",
       "14901  키즈밀_22_실온소스_S4_한돈짜장덮밥소스      1  소스   이소말토올리고당 1.2\n",
       "14902  키즈밀_22_실온소스_S4_한돈짜장덮밥소스      1  소스       혼합제제 2.0\n",
       "14903  키즈밀_22_실온소스_S4_한돈짜장덮밥소스      1  소스    우리밀짜장가루 3.3\n",
       "14904  키즈밀_22_실온소스_S4_한돈짜장덮밥소스      1  소스        정제수 4.0\n",
       "\n",
       "[14905 rows x 4 columns]"
      ]
     },
     "execution_count": 137,
     "metadata": {},
     "output_type": "execute_result"
    }
   ],
   "source": [
    "pulmu.drop('원재료명',axis=1,inplace=True)\n",
    "pulmu"
   ]
  },
  {
   "cell_type": "markdown",
   "id": "cadca39e-c033-4d5b-86df-3b63f65ea745",
   "metadata": {},
   "source": [
    "원재료명 + 함량을 원재료명에 한번에 표현."
   ]
  },
  {
   "cell_type": "code",
   "execution_count": 138,
   "id": "d4711213-2197-4890-a835-27b054fd1f03",
   "metadata": {},
   "outputs": [],
   "source": [
    "pulmu.columns = ['제품명','함량(%)','분류','원재료명']"
   ]
  },
  {
   "cell_type": "code",
   "execution_count": 139,
   "id": "2c2582fc-47d3-411f-ab63-3a999eca0c68",
   "metadata": {},
   "outputs": [
    {
     "data": {
      "text/html": [
       "<div>\n",
       "<style scoped>\n",
       "    .dataframe tbody tr th:only-of-type {\n",
       "        vertical-align: middle;\n",
       "    }\n",
       "\n",
       "    .dataframe tbody tr th {\n",
       "        vertical-align: top;\n",
       "    }\n",
       "\n",
       "    .dataframe thead th {\n",
       "        text-align: right;\n",
       "    }\n",
       "</style>\n",
       "<table border=\"1\" class=\"dataframe\">\n",
       "  <thead>\n",
       "    <tr style=\"text-align: right;\">\n",
       "      <th></th>\n",
       "      <th>제품명</th>\n",
       "      <th>원재료명</th>\n",
       "      <th>함량(%)</th>\n",
       "      <th>분류</th>\n",
       "    </tr>\n",
       "  </thead>\n",
       "  <tbody>\n",
       "    <tr>\n",
       "      <th>0</th>\n",
       "      <td>칠리소스</td>\n",
       "      <td>토마토페이스트 38.17</td>\n",
       "      <td>1</td>\n",
       "      <td>소스</td>\n",
       "    </tr>\n",
       "    <tr>\n",
       "      <th>1</th>\n",
       "      <td>칠리소스</td>\n",
       "      <td>양파 13.16</td>\n",
       "      <td>1</td>\n",
       "      <td>소스</td>\n",
       "    </tr>\n",
       "    <tr>\n",
       "      <th>2</th>\n",
       "      <td>칠리소스</td>\n",
       "      <td>양송이 11.57</td>\n",
       "      <td>1</td>\n",
       "      <td>소스</td>\n",
       "    </tr>\n",
       "    <tr>\n",
       "      <th>3</th>\n",
       "      <td>칠리소스</td>\n",
       "      <td>향신지미베이스 7.58</td>\n",
       "      <td>1</td>\n",
       "      <td>소스</td>\n",
       "    </tr>\n",
       "    <tr>\n",
       "      <th>4</th>\n",
       "      <td>칠리소스</td>\n",
       "      <td>베이컨 5.92</td>\n",
       "      <td>1</td>\n",
       "      <td>소스</td>\n",
       "    </tr>\n",
       "    <tr>\n",
       "      <th>...</th>\n",
       "      <td>...</td>\n",
       "      <td>...</td>\n",
       "      <td>...</td>\n",
       "      <td>...</td>\n",
       "    </tr>\n",
       "    <tr>\n",
       "      <th>14900</th>\n",
       "      <td>키즈밀_22_실온소스_S4_한돈짜장덮밥소스</td>\n",
       "      <td>멸치가루 0.01</td>\n",
       "      <td>1</td>\n",
       "      <td>소스</td>\n",
       "    </tr>\n",
       "    <tr>\n",
       "      <th>14901</th>\n",
       "      <td>키즈밀_22_실온소스_S4_한돈짜장덮밥소스</td>\n",
       "      <td>이소말토올리고당 1.2</td>\n",
       "      <td>1</td>\n",
       "      <td>소스</td>\n",
       "    </tr>\n",
       "    <tr>\n",
       "      <th>14902</th>\n",
       "      <td>키즈밀_22_실온소스_S4_한돈짜장덮밥소스</td>\n",
       "      <td>혼합제제 2.0</td>\n",
       "      <td>1</td>\n",
       "      <td>소스</td>\n",
       "    </tr>\n",
       "    <tr>\n",
       "      <th>14903</th>\n",
       "      <td>키즈밀_22_실온소스_S4_한돈짜장덮밥소스</td>\n",
       "      <td>우리밀짜장가루 3.3</td>\n",
       "      <td>1</td>\n",
       "      <td>소스</td>\n",
       "    </tr>\n",
       "    <tr>\n",
       "      <th>14904</th>\n",
       "      <td>키즈밀_22_실온소스_S4_한돈짜장덮밥소스</td>\n",
       "      <td>정제수 4.0</td>\n",
       "      <td>1</td>\n",
       "      <td>소스</td>\n",
       "    </tr>\n",
       "  </tbody>\n",
       "</table>\n",
       "<p>14905 rows × 4 columns</p>\n",
       "</div>"
      ],
      "text/plain": [
       "                           제품명           원재료명  함량(%)  분류\n",
       "0                         칠리소스  토마토페이스트 38.17      1  소스\n",
       "1                         칠리소스       양파 13.16      1  소스\n",
       "2                         칠리소스      양송이 11.57      1  소스\n",
       "3                         칠리소스   향신지미베이스 7.58      1  소스\n",
       "4                         칠리소스       베이컨 5.92      1  소스\n",
       "...                        ...            ...    ...  ..\n",
       "14900  키즈밀_22_실온소스_S4_한돈짜장덮밥소스      멸치가루 0.01      1  소스\n",
       "14901  키즈밀_22_실온소스_S4_한돈짜장덮밥소스   이소말토올리고당 1.2      1  소스\n",
       "14902  키즈밀_22_실온소스_S4_한돈짜장덮밥소스       혼합제제 2.0      1  소스\n",
       "14903  키즈밀_22_실온소스_S4_한돈짜장덮밥소스    우리밀짜장가루 3.3      1  소스\n",
       "14904  키즈밀_22_실온소스_S4_한돈짜장덮밥소스        정제수 4.0      1  소스\n",
       "\n",
       "[14905 rows x 4 columns]"
      ]
     },
     "execution_count": 139,
     "metadata": {},
     "output_type": "execute_result"
    }
   ],
   "source": [
    "pulmu = pulmu[['제품명','원재료명','함량(%)','분류']]\n",
    "pulmu"
   ]
  },
  {
   "cell_type": "markdown",
   "id": "1481f8de-e569-428a-a0e2-e48dd210cb00",
   "metadata": {},
   "source": [
    "# FastText + Node2Vec"
   ]
  },
  {
   "cell_type": "code",
   "execution_count": 140,
   "id": "77c95b6d-9ef9-4b8b-8d45-7e6dc41ed180",
   "metadata": {},
   "outputs": [
    {
     "name": "stdout",
     "output_type": "stream",
     "text": [
      "Requirement already satisfied: node2vec in /home/dhpark/anaconda3/envs/py39/lib/python3.9/site-packages (0.3.2)\n",
      "Requirement already satisfied: networkx in /home/dhpark/anaconda3/envs/py39/lib/python3.9/site-packages (from node2vec) (2.8.8)\n",
      "Requirement already satisfied: gensim in /home/dhpark/anaconda3/envs/py39/lib/python3.9/site-packages (from node2vec) (3.8.0)\n",
      "Requirement already satisfied: joblib>=0.13.2 in /home/dhpark/anaconda3/envs/py39/lib/python3.9/site-packages (from node2vec) (1.1.0)\n",
      "Requirement already satisfied: numpy in /home/dhpark/anaconda3/envs/py39/lib/python3.9/site-packages (from node2vec) (1.22.3)\n",
      "Requirement already satisfied: tqdm in /home/dhpark/anaconda3/envs/py39/lib/python3.9/site-packages (from node2vec) (4.64.0)\n",
      "Requirement already satisfied: six>=1.5.0 in /home/dhpark/anaconda3/envs/py39/lib/python3.9/site-packages (from gensim->node2vec) (1.16.0)\n",
      "Requirement already satisfied: scipy>=0.18.1 in /home/dhpark/anaconda3/envs/py39/lib/python3.9/site-packages (from gensim->node2vec) (1.9.3)\n",
      "Requirement already satisfied: smart-open>=1.7.0 in /home/dhpark/anaconda3/envs/py39/lib/python3.9/site-packages (from gensim->node2vec) (5.2.1)\n",
      "\n",
      "\u001b[1m[\u001b[0m\u001b[34;49mnotice\u001b[0m\u001b[1;39;49m]\u001b[0m\u001b[39;49m A new release of pip available: \u001b[0m\u001b[31;49m22.2.2\u001b[0m\u001b[39;49m -> \u001b[0m\u001b[32;49m22.3\u001b[0m\n",
      "\u001b[1m[\u001b[0m\u001b[34;49mnotice\u001b[0m\u001b[1;39;49m]\u001b[0m\u001b[39;49m To update, run: \u001b[0m\u001b[32;49mpip install --upgrade pip\u001b[0m\n",
      "Note: you may need to restart the kernel to use updated packages.\n"
     ]
    }
   ],
   "source": [
    "pip install node2vec #Node2Vec 설치"
   ]
  },
  {
   "cell_type": "code",
   "execution_count": 141,
   "id": "38a26afd-83a1-45a9-aeea-6841730dee25",
   "metadata": {},
   "outputs": [
    {
     "name": "stdout",
     "output_type": "stream",
     "text": [
      "Requirement already satisfied: scipy in /home/dhpark/anaconda3/envs/py39/lib/python3.9/site-packages (1.9.3)\n",
      "Requirement already satisfied: networkx in /home/dhpark/anaconda3/envs/py39/lib/python3.9/site-packages (2.8.8)\n",
      "Requirement already satisfied: numpy<1.26.0,>=1.18.5 in /home/dhpark/anaconda3/envs/py39/lib/python3.9/site-packages (from scipy) (1.22.3)\n",
      "\n",
      "\u001b[1m[\u001b[0m\u001b[34;49mnotice\u001b[0m\u001b[1;39;49m]\u001b[0m\u001b[39;49m A new release of pip available: \u001b[0m\u001b[31;49m22.2.2\u001b[0m\u001b[39;49m -> \u001b[0m\u001b[32;49m22.3\u001b[0m\n",
      "\u001b[1m[\u001b[0m\u001b[34;49mnotice\u001b[0m\u001b[1;39;49m]\u001b[0m\u001b[39;49m To update, run: \u001b[0m\u001b[32;49mpip install --upgrade pip\u001b[0m\n",
      "Note: you may need to restart the kernel to use updated packages.\n"
     ]
    }
   ],
   "source": [
    "pip install --upgrade scipy networkx"
   ]
  },
  {
   "cell_type": "code",
   "execution_count": 142,
   "id": "62edb0a3-8694-408e-b8dc-a963c720c4cd",
   "metadata": {},
   "outputs": [],
   "source": [
    "import networkx as nx\n",
    "from node2vec import Node2Vec"
   ]
  },
  {
   "cell_type": "markdown",
   "id": "eec7f497-f317-461e-bffb-d7cd3976e77c",
   "metadata": {},
   "source": [
    "#### Node2Vec 모델 훈련"
   ]
  },
  {
   "cell_type": "markdown",
   "id": "f96fde1d-3117-4b9e-802d-1cd0cc42a3ac",
   "metadata": {},
   "source": [
    "첫번째 model은 함량 정보를 담고있는 제품-원재료명 훈련 모델"
   ]
  },
  {
   "cell_type": "code",
   "execution_count": 143,
   "id": "e5a44d4c-7a55-4f2f-9af3-6972e5c3d901",
   "metadata": {},
   "outputs": [
    {
     "name": "stderr",
     "output_type": "stream",
     "text": [
      "Computing transition probabilities: 100%|█| 7894/7894 [00:00<0\n",
      "Generating walks (CPU: 1): 100%|█| 100/100 [05:55<00:00,  3.55\n"
     ]
    }
   ],
   "source": [
    "pulmu = pulmu.copy()\n",
    "G = nx.Graph()\n",
    "\n",
    "#product = pulmu['제품명'].unique().tolist()\n",
    "\n",
    "# # edge\n",
    "for i in range(len(pulmu)):\n",
    "    G.add_edge(pulmu['제품명'][i],pulmu['원재료명'][i],relation='ingredients')\n",
    "\n",
    "\n",
    "# 노드 임베딩\n",
    "node2vec = Node2Vec(G,dimensions=20,walk_length=16,num_walks=100)\n",
    "model = node2vec.fit(window=10,min_count=1)"
   ]
  },
  {
   "cell_type": "markdown",
   "id": "f773614a-b7d9-40a6-a200-1f63a7b77515",
   "metadata": {},
   "source": [
    "두번째 model1은 함량 정보를 담지않은 제품-원재료명 훈련 모델"
   ]
  },
  {
   "cell_type": "code",
   "execution_count": 144,
   "id": "33a1838a-e764-4527-9706-59163c0c57df",
   "metadata": {},
   "outputs": [
    {
     "name": "stderr",
     "output_type": "stream",
     "text": [
      "Computing transition probabilities: 100%|█| 2343/2343 [00:03<0\n",
      "Generating walks (CPU: 1): 100%|█| 100/100 [02:08<00:00,  1.29\n"
     ]
    }
   ],
   "source": [
    "G1 = nx.Graph()\n",
    "\n",
    "#product = pulmu['제품명'].unique().tolist()\n",
    "\n",
    "# # edge\n",
    "for i in range(len(pm)):\n",
    "    G1.add_edge(pm['제품명'][i],pm['원재료명'][i],relation='ingredients')\n",
    "#ingredient = pulmu['원재료명'].unique().tolist()\n",
    "#product = pulmu['제품명'].unique().tolist()\n",
    "\n",
    "# 노드 임베딩\n",
    "node2vec = Node2Vec(G1,dimensions=20,walk_length=16,num_walks=100)\n",
    "model1 = node2vec.fit(window=10,min_count=1)"
   ]
  },
  {
   "cell_type": "markdown",
   "id": "bc20f77b-cb38-47e8-8bb9-55785abd990e",
   "metadata": {},
   "source": [
    "# Product's ingredient node"
   ]
  },
  {
   "cell_type": "markdown",
   "id": "ac44079d-8318-479e-8393-d9a4dd1b5c78",
   "metadata": {},
   "source": [
    "첫번째 섹션"
   ]
  },
  {
   "cell_type": "markdown",
   "id": "8347729b-9859-4b10-9b49-bfe124f4947e",
   "metadata": {},
   "source": [
    "입력값과 유사한 단어(제품) top3를 찾고, 관련 ingredient node를 뽑는 작업을 합니다."
   ]
  },
  {
   "cell_type": "markdown",
   "id": "e7a802e6-104e-4e59-99f4-1e45c9fd5640",
   "metadata": {
    "tags": []
   },
   "source": [
    "#### 입력 제품명과 가장 유사한 단어"
   ]
  },
  {
   "cell_type": "code",
   "execution_count": 151,
   "id": "602f36b1-5484-47d5-9a65-ce9d4cae69c6",
   "metadata": {},
   "outputs": [],
   "source": [
    "import sys\n",
    "# Product\n",
    "def rank_list(name1,name2):\n",
    "    rank = {}\n",
    "    product_list = []\n",
    "    clf = pulmu[pulmu['분류']==name2]\n",
    "    X_train = list(clf['제품명'].unique())\n",
    "    for i in range(len(X_train)):\n",
    "        sim = ft_model.wv.similarity(name1,X_train[i])\n",
    "        rank[X_train[i]]=sim\n",
    "    ranked_list = sorted(rank.items(), key=lambda x: x[1],reverse=True)\n",
    "    ranked_list = ranked_list[:5]\n",
    "    ranked_list\n",
    "    for i in range(5):\n",
    "        product_list.append(ranked_list[i][0])\n",
    "    return product_list\n",
    "\n",
    "# ingredient\n",
    "def node2ingredient(input_data):\n",
    "    data= model.wv.most_similar(input_data,topn=100)\n",
    "\n",
    "    answer_ingredient_list =[]\n",
    "\n",
    "    for i in range(len(data)):\n",
    "        for j in range(len(ingredient)):\n",
    "            if(data[i][0]==ingredient[j]):\n",
    "                answer_ingredient_list.append(data[i])\n",
    "    ingredient_node =[]\n",
    "    ingredient_node_sim =[]\n",
    "\n",
    "    for i in range(len(answer_ingredient_list)):\n",
    "        ingredient_node.append(answer_ingredient_list[i][0])\n",
    "        ingredient_node_sim.append(answer_ingredient_list[i][1])\n",
    "\n",
    "    ingredient_node_df = pd.DataFrame(data=list(zip(ingredient_node,ingredient_node_sim)),columns=['원재료','유사도'])\n",
    "    ind = ingredient_node_df[:20]\n",
    "    return list(ind['원재료'])\n",
    "\n",
    "# 함량 백분율 통합\n",
    "def integrate(ingred_list):\n",
    "    dic = {}\n",
    "    for i in ingred_list:    \n",
    "        idx = i.index(' ')\n",
    "        dic[i[0:idx]]=float(i[idx:])\n",
    "    return dic"
   ]
  },
  {
   "cell_type": "code",
   "execution_count": 600,
   "id": "efefc148-9a16-4266-90de-095eddc48cbc",
   "metadata": {},
   "outputs": [
    {
     "name": "stdout",
     "output_type": "stream",
     "text": [
      "입력 형태 : 제품명,분류명 [ 예시 : 흑임자,소스  ]\n"
     ]
    },
    {
     "name": "stdout",
     "output_type": "stream",
     "text": [
      "제품을 넣어주세요 : 흑임자,소스\n"
     ]
    },
    {
     "name": "stdout",
     "output_type": "stream",
     "text": [
      "★ Top_1 similar product is 참깨&흑임자드레싱(SB)\n",
      "★ Top_2 similar product is 참깨흑임자드레싱\n",
      "★ Top_3 similar product is 참깨흑임자드레싱1\n"
     ]
    }
   ],
   "source": [
    "ingredient = pulmu['원재료명'].unique().tolist()\n",
    "product = pulmu['제품명'].unique().tolist()\n",
    "\n",
    "print('입력 형태 : 제품명,분류명 [ 예시 : 흑임자,소스  ]')\n",
    "input_data1,input_data2 = map(str,input('제품을 넣어주세요 :').split(',')) #이름과 분류를 입력.\n",
    "similar_rank = rank_list(input_data1,input_data2) #입력한 이름과 비슷한 product를 추출\n",
    "top1_similar,top2_similar,top3_similar = similar_rank[0],similar_rank[1],similar_rank[2]\n",
    "\n",
    "##################################################\n",
    "print('★ Top_1 similar product is %s' %top1_similar)\n",
    "print('★ Top_2 similar product is %s' %top2_similar)\n",
    "print('★ Top_3 similar product is %s' %top3_similar)\n",
    "##################################################\n",
    "\n",
    "ingred_list,ingred_list_2,ingred_list_3 = node2ingredient(top1_similar),node2ingredient(top2_similar),node2ingredient(top3_similar)\n",
    "\n",
    "# print('***********************************************************' * 2)\n",
    "# print(\"★ Top_1 similar product's ingredient is %s\" %ingred_list)\n",
    "# print('***********************************************************' * 2)\n",
    "\n",
    "# print(\"★ Top_2 similar product's ingredient is %s\" %ingred_list_2)\n",
    "# print('***********************************************************' * 2)\n",
    "\n",
    "# print(\"★ Top_3 similar product's ingredient is %s\" %ingred_list_3)\n",
    "# print('***********************************************************' * 2)\n",
    "\n",
    "dic1,dic2,dic3 = integrate(ingred_list), integrate(ingred_list_2), integrate(ingred_list_3)\n",
    "\n",
    "dic1 = sorted(dic1.items(), key = lambda x:x[1],reverse=True)\n",
    "dic2 = sorted(dic2.items(), key = lambda x:x[1],reverse=True)\n",
    "dic3 = sorted(dic3.items(), key = lambda x:x[1],reverse=True)\n",
    "\n",
    "# for i in dic1:\n",
    "#     print(i)\n",
    "# print('***********************************************************' * 2)\n",
    "# for i in dic2:\n",
    "#     print(i)\n",
    "# print('***********************************************************' * 2)\n",
    "# for i in dic3:\n",
    "#     print(i)"
   ]
  },
  {
   "cell_type": "code",
   "execution_count": 601,
   "id": "df9060ae-d00e-4870-9be1-e5c3ea03cc28",
   "metadata": {},
   "outputs": [],
   "source": [
    "df1,df2,df3 = pd.DataFrame(dic1),pd.DataFrame(dic2),pd.DataFrame(dic3)\n",
    "df4 = pd.concat([df1,df2,df3],axis=1)\n",
    "df4.fillna(' ',inplace=True)\n",
    "df4.columns = [['top1','top1','top2','top2','top3','top3'], ['원재료','함량','원재료','함량','원재료','함량']]"
   ]
  },
  {
   "cell_type": "code",
   "execution_count": 602,
   "id": "da53f8d7-2c75-4b41-9f7d-78ef8ef5c10b",
   "metadata": {},
   "outputs": [
    {
     "data": {
      "text/html": [
       "<div>\n",
       "<style scoped>\n",
       "    .dataframe tbody tr th:only-of-type {\n",
       "        vertical-align: middle;\n",
       "    }\n",
       "\n",
       "    .dataframe tbody tr th {\n",
       "        vertical-align: top;\n",
       "    }\n",
       "\n",
       "    .dataframe thead tr th {\n",
       "        text-align: left;\n",
       "    }\n",
       "</style>\n",
       "<table border=\"1\" class=\"dataframe\">\n",
       "  <thead>\n",
       "    <tr>\n",
       "      <th></th>\n",
       "      <th colspan=\"2\" halign=\"left\">top1</th>\n",
       "      <th colspan=\"2\" halign=\"left\">top2</th>\n",
       "      <th colspan=\"2\" halign=\"left\">top3</th>\n",
       "    </tr>\n",
       "    <tr>\n",
       "      <th></th>\n",
       "      <th>원재료</th>\n",
       "      <th>함량</th>\n",
       "      <th>원재료</th>\n",
       "      <th>함량</th>\n",
       "      <th>원재료</th>\n",
       "      <th>함량</th>\n",
       "    </tr>\n",
       "  </thead>\n",
       "  <tbody>\n",
       "    <tr>\n",
       "      <th>0</th>\n",
       "      <td>마요네즈</td>\n",
       "      <td>36.0</td>\n",
       "      <td>정제수</td>\n",
       "      <td>34.26</td>\n",
       "      <td>정제수</td>\n",
       "      <td>87.70</td>\n",
       "    </tr>\n",
       "    <tr>\n",
       "      <th>1</th>\n",
       "      <td>정제수</td>\n",
       "      <td>34.26</td>\n",
       "      <td>마요네즈</td>\n",
       "      <td>33.5</td>\n",
       "      <td>마요네즈</td>\n",
       "      <td>23.95</td>\n",
       "    </tr>\n",
       "    <tr>\n",
       "      <th>2</th>\n",
       "      <td>기타과당</td>\n",
       "      <td>14.0</td>\n",
       "      <td>액상과당</td>\n",
       "      <td>14.0</td>\n",
       "      <td>기타과당</td>\n",
       "      <td>10.01</td>\n",
       "    </tr>\n",
       "    <tr>\n",
       "      <th>3</th>\n",
       "      <td>액상과당</td>\n",
       "      <td>14.0</td>\n",
       "      <td>기타과당</td>\n",
       "      <td>14.0</td>\n",
       "      <td>발효식초</td>\n",
       "      <td>2.72</td>\n",
       "    </tr>\n",
       "    <tr>\n",
       "      <th>4</th>\n",
       "      <td>발효식초</td>\n",
       "      <td>3.8</td>\n",
       "      <td>발효식초</td>\n",
       "      <td>5.2</td>\n",
       "      <td>볶음참깨분말</td>\n",
       "      <td>2.50</td>\n",
       "    </tr>\n",
       "    <tr>\n",
       "      <th>5</th>\n",
       "      <td>향긋한사과식초</td>\n",
       "      <td>3.8</td>\n",
       "      <td>볶음참깨분말</td>\n",
       "      <td>5.0</td>\n",
       "      <td>냉면베이스</td>\n",
       "      <td>1.50</td>\n",
       "    </tr>\n",
       "    <tr>\n",
       "      <th>6</th>\n",
       "      <td>볶음참깨분말</td>\n",
       "      <td>3.5</td>\n",
       "      <td>향긋한사과식초</td>\n",
       "      <td>3.8</td>\n",
       "      <td>양조간장</td>\n",
       "      <td>1.29</td>\n",
       "    </tr>\n",
       "    <tr>\n",
       "      <th>7</th>\n",
       "      <td>볶음참깨분</td>\n",
       "      <td>3.5</td>\n",
       "      <td>볶음참깨분</td>\n",
       "      <td>3.5</td>\n",
       "      <td>볶음검정깨</td>\n",
       "      <td>0.86</td>\n",
       "    </tr>\n",
       "    <tr>\n",
       "      <th>8</th>\n",
       "      <td>양조간장</td>\n",
       "      <td>1.8</td>\n",
       "      <td>양조간장</td>\n",
       "      <td>1.8</td>\n",
       "      <td>정제소금</td>\n",
       "      <td>0.84</td>\n",
       "    </tr>\n",
       "    <tr>\n",
       "      <th>9</th>\n",
       "      <td>볶음검정깨</td>\n",
       "      <td>1.2</td>\n",
       "      <td>볶음검정깨</td>\n",
       "      <td>1.2</td>\n",
       "      <td>참기름</td>\n",
       "      <td>0.61</td>\n",
       "    </tr>\n",
       "    <tr>\n",
       "      <th>10</th>\n",
       "      <td>정제소금</td>\n",
       "      <td>1.17</td>\n",
       "      <td>정제소금</td>\n",
       "      <td>1.17</td>\n",
       "      <td>쇠고기양지베이스-P</td>\n",
       "      <td>0.30</td>\n",
       "    </tr>\n",
       "    <tr>\n",
       "      <th>11</th>\n",
       "      <td>참기름</td>\n",
       "      <td>0.85</td>\n",
       "      <td>참기름</td>\n",
       "      <td>0.85</td>\n",
       "      <td>평양지미베이스</td>\n",
       "      <td>0.30</td>\n",
       "    </tr>\n",
       "    <tr>\n",
       "      <th>12</th>\n",
       "      <td>후추조미분</td>\n",
       "      <td>0.32</td>\n",
       "      <td>후추조미분</td>\n",
       "      <td>0.32</td>\n",
       "      <td>반응풍미베이스</td>\n",
       "      <td>0.10</td>\n",
       "    </tr>\n",
       "    <tr>\n",
       "      <th>13</th>\n",
       "      <td>잔탄검</td>\n",
       "      <td>0.09</td>\n",
       "      <td>잔탄검</td>\n",
       "      <td>0.09</td>\n",
       "      <td>흑후추분말</td>\n",
       "      <td>0.07</td>\n",
       "    </tr>\n",
       "    <tr>\n",
       "      <th>14</th>\n",
       "      <td>밀분해추출물</td>\n",
       "      <td>0.05</td>\n",
       "      <td>아미노베이스-P</td>\n",
       "      <td>0.05</td>\n",
       "      <td>잔탄검</td>\n",
       "      <td>0.06</td>\n",
       "    </tr>\n",
       "    <tr>\n",
       "      <th>15</th>\n",
       "      <td>아미노베이스-P</td>\n",
       "      <td>0.05</td>\n",
       "      <td>밀분해추출물</td>\n",
       "      <td>0.05</td>\n",
       "      <td>밀분해추출물</td>\n",
       "      <td>0.04</td>\n",
       "    </tr>\n",
       "    <tr>\n",
       "      <th>16</th>\n",
       "      <td></td>\n",
       "      <td></td>\n",
       "      <td>구연산</td>\n",
       "      <td>0.03</td>\n",
       "      <td>아미노베이스-P</td>\n",
       "      <td>0.04</td>\n",
       "    </tr>\n",
       "    <tr>\n",
       "      <th>17</th>\n",
       "      <td></td>\n",
       "      <td></td>\n",
       "      <td></td>\n",
       "      <td></td>\n",
       "      <td>구연산</td>\n",
       "      <td>0.02</td>\n",
       "    </tr>\n",
       "    <tr>\n",
       "      <th>18</th>\n",
       "      <td></td>\n",
       "      <td></td>\n",
       "      <td></td>\n",
       "      <td></td>\n",
       "      <td>배농축액</td>\n",
       "      <td>0.02</td>\n",
       "    </tr>\n",
       "  </tbody>\n",
       "</table>\n",
       "</div>"
      ],
      "text/plain": [
       "        top1             top2               top3       \n",
       "         원재료     함량       원재료     함량         원재료     함량\n",
       "0       마요네즈   36.0       정제수  34.26         정제수  87.70\n",
       "1        정제수  34.26      마요네즈   33.5        마요네즈  23.95\n",
       "2       기타과당   14.0      액상과당   14.0        기타과당  10.01\n",
       "3       액상과당   14.0      기타과당   14.0        발효식초   2.72\n",
       "4       발효식초    3.8      발효식초    5.2      볶음참깨분말   2.50\n",
       "5    향긋한사과식초    3.8    볶음참깨분말    5.0       냉면베이스   1.50\n",
       "6     볶음참깨분말    3.5   향긋한사과식초    3.8        양조간장   1.29\n",
       "7      볶음참깨분    3.5     볶음참깨분    3.5       볶음검정깨   0.86\n",
       "8       양조간장    1.8      양조간장    1.8        정제소금   0.84\n",
       "9      볶음검정깨    1.2     볶음검정깨    1.2         참기름   0.61\n",
       "10      정제소금   1.17      정제소금   1.17  쇠고기양지베이스-P   0.30\n",
       "11       참기름   0.85       참기름   0.85     평양지미베이스   0.30\n",
       "12     후추조미분   0.32     후추조미분   0.32     반응풍미베이스   0.10\n",
       "13       잔탄검   0.09       잔탄검   0.09       흑후추분말   0.07\n",
       "14    밀분해추출물   0.05  아미노베이스-P   0.05         잔탄검   0.06\n",
       "15  아미노베이스-P   0.05    밀분해추출물   0.05      밀분해추출물   0.04\n",
       "16                        구연산   0.03    아미노베이스-P   0.04\n",
       "17                                           구연산   0.02\n",
       "18                                          배농축액   0.02"
      ]
     },
     "execution_count": 602,
     "metadata": {},
     "output_type": "execute_result"
    }
   ],
   "source": [
    "df4 #top1,top2,top3 제품이 가지고 있는 관계 재료 노드 (가시성을 위해서 밑의 결과로 표현)"
   ]
  },
  {
   "cell_type": "markdown",
   "id": "ad6bc657-3796-414c-b748-080fc9e117b1",
   "metadata": {},
   "source": [
    "# 입력값과 유사한 원재료명들의 Node2Vec 관찰"
   ]
  },
  {
   "cell_type": "markdown",
   "id": "8107467a-337a-4eaf-906c-72acdb8d3b75",
   "metadata": {},
   "source": [
    "두번째 섹션에서는 입력값과 유사한 원재료명을 찾고(FastText),"
   ]
  },
  {
   "cell_type": "markdown",
   "id": "4926ff10-c781-44b5-b7f1-6042d92adcfc",
   "metadata": {},
   "source": [
    "위의 결과에서 나온 원재료명의 Node2Vec찾습니다 (Node2Vec)."
   ]
  },
  {
   "cell_type": "markdown",
   "id": "921d80a0-ec37-4b72-8105-0ae01a4a962d",
   "metadata": {},
   "source": [
    "dic1,dic2,dic3는 입력 제품명과 유사도가 비슷한 제품이 가지고 있는 노드 ingredient 입니다."
   ]
  },
  {
   "cell_type": "code",
   "execution_count": 603,
   "id": "f4236460-6293-4396-bd06-cea7002cc22c",
   "metadata": {},
   "outputs": [],
   "source": [
    "new_dict = dic1 + dic2 + dic3"
   ]
  },
  {
   "cell_type": "markdown",
   "id": "7186813c-2980-4109-a76b-80775ba516c5",
   "metadata": {},
   "source": [
    "#### (1) 위의 유사한 제품명들이 갖고있는 ingredient node를 데이터프레임화"
   ]
  },
  {
   "cell_type": "code",
   "execution_count": 604,
   "id": "7b091f62-5eed-493a-a148-f9e0c388bc71",
   "metadata": {},
   "outputs": [
    {
     "data": {
      "text/html": [
       "<div>\n",
       "<style scoped>\n",
       "    .dataframe tbody tr th:only-of-type {\n",
       "        vertical-align: middle;\n",
       "    }\n",
       "\n",
       "    .dataframe tbody tr th {\n",
       "        vertical-align: top;\n",
       "    }\n",
       "\n",
       "    .dataframe thead th {\n",
       "        text-align: right;\n",
       "    }\n",
       "</style>\n",
       "<table border=\"1\" class=\"dataframe\">\n",
       "  <thead>\n",
       "    <tr style=\"text-align: right;\">\n",
       "      <th></th>\n",
       "      <th>0</th>\n",
       "      <th>1</th>\n",
       "    </tr>\n",
       "  </thead>\n",
       "  <tbody>\n",
       "    <tr>\n",
       "      <th>0</th>\n",
       "      <td>마요네즈</td>\n",
       "      <td>36.00</td>\n",
       "    </tr>\n",
       "    <tr>\n",
       "      <th>1</th>\n",
       "      <td>정제수</td>\n",
       "      <td>34.26</td>\n",
       "    </tr>\n",
       "    <tr>\n",
       "      <th>2</th>\n",
       "      <td>기타과당</td>\n",
       "      <td>14.00</td>\n",
       "    </tr>\n",
       "    <tr>\n",
       "      <th>3</th>\n",
       "      <td>액상과당</td>\n",
       "      <td>14.00</td>\n",
       "    </tr>\n",
       "    <tr>\n",
       "      <th>4</th>\n",
       "      <td>발효식초</td>\n",
       "      <td>3.80</td>\n",
       "    </tr>\n",
       "    <tr>\n",
       "      <th>5</th>\n",
       "      <td>향긋한사과식초</td>\n",
       "      <td>3.80</td>\n",
       "    </tr>\n",
       "    <tr>\n",
       "      <th>6</th>\n",
       "      <td>볶음참깨분말</td>\n",
       "      <td>3.50</td>\n",
       "    </tr>\n",
       "    <tr>\n",
       "      <th>7</th>\n",
       "      <td>볶음참깨분</td>\n",
       "      <td>3.50</td>\n",
       "    </tr>\n",
       "    <tr>\n",
       "      <th>8</th>\n",
       "      <td>양조간장</td>\n",
       "      <td>1.80</td>\n",
       "    </tr>\n",
       "    <tr>\n",
       "      <th>9</th>\n",
       "      <td>볶음검정깨</td>\n",
       "      <td>1.20</td>\n",
       "    </tr>\n",
       "    <tr>\n",
       "      <th>10</th>\n",
       "      <td>정제소금</td>\n",
       "      <td>1.17</td>\n",
       "    </tr>\n",
       "    <tr>\n",
       "      <th>11</th>\n",
       "      <td>참기름</td>\n",
       "      <td>0.85</td>\n",
       "    </tr>\n",
       "    <tr>\n",
       "      <th>12</th>\n",
       "      <td>후추조미분</td>\n",
       "      <td>0.32</td>\n",
       "    </tr>\n",
       "    <tr>\n",
       "      <th>13</th>\n",
       "      <td>잔탄검</td>\n",
       "      <td>0.09</td>\n",
       "    </tr>\n",
       "    <tr>\n",
       "      <th>14</th>\n",
       "      <td>밀분해추출물</td>\n",
       "      <td>0.05</td>\n",
       "    </tr>\n",
       "    <tr>\n",
       "      <th>15</th>\n",
       "      <td>아미노베이스-P</td>\n",
       "      <td>0.05</td>\n",
       "    </tr>\n",
       "    <tr>\n",
       "      <th>16</th>\n",
       "      <td>정제수</td>\n",
       "      <td>34.26</td>\n",
       "    </tr>\n",
       "    <tr>\n",
       "      <th>17</th>\n",
       "      <td>마요네즈</td>\n",
       "      <td>33.50</td>\n",
       "    </tr>\n",
       "    <tr>\n",
       "      <th>18</th>\n",
       "      <td>액상과당</td>\n",
       "      <td>14.00</td>\n",
       "    </tr>\n",
       "    <tr>\n",
       "      <th>19</th>\n",
       "      <td>기타과당</td>\n",
       "      <td>14.00</td>\n",
       "    </tr>\n",
       "    <tr>\n",
       "      <th>20</th>\n",
       "      <td>발효식초</td>\n",
       "      <td>5.20</td>\n",
       "    </tr>\n",
       "    <tr>\n",
       "      <th>21</th>\n",
       "      <td>볶음참깨분말</td>\n",
       "      <td>5.00</td>\n",
       "    </tr>\n",
       "    <tr>\n",
       "      <th>22</th>\n",
       "      <td>향긋한사과식초</td>\n",
       "      <td>3.80</td>\n",
       "    </tr>\n",
       "    <tr>\n",
       "      <th>23</th>\n",
       "      <td>볶음참깨분</td>\n",
       "      <td>3.50</td>\n",
       "    </tr>\n",
       "    <tr>\n",
       "      <th>24</th>\n",
       "      <td>양조간장</td>\n",
       "      <td>1.80</td>\n",
       "    </tr>\n",
       "    <tr>\n",
       "      <th>25</th>\n",
       "      <td>볶음검정깨</td>\n",
       "      <td>1.20</td>\n",
       "    </tr>\n",
       "    <tr>\n",
       "      <th>26</th>\n",
       "      <td>정제소금</td>\n",
       "      <td>1.17</td>\n",
       "    </tr>\n",
       "    <tr>\n",
       "      <th>27</th>\n",
       "      <td>참기름</td>\n",
       "      <td>0.85</td>\n",
       "    </tr>\n",
       "    <tr>\n",
       "      <th>28</th>\n",
       "      <td>후추조미분</td>\n",
       "      <td>0.32</td>\n",
       "    </tr>\n",
       "    <tr>\n",
       "      <th>29</th>\n",
       "      <td>잔탄검</td>\n",
       "      <td>0.09</td>\n",
       "    </tr>\n",
       "    <tr>\n",
       "      <th>30</th>\n",
       "      <td>아미노베이스-P</td>\n",
       "      <td>0.05</td>\n",
       "    </tr>\n",
       "    <tr>\n",
       "      <th>31</th>\n",
       "      <td>밀분해추출물</td>\n",
       "      <td>0.05</td>\n",
       "    </tr>\n",
       "    <tr>\n",
       "      <th>32</th>\n",
       "      <td>구연산</td>\n",
       "      <td>0.03</td>\n",
       "    </tr>\n",
       "    <tr>\n",
       "      <th>33</th>\n",
       "      <td>정제수</td>\n",
       "      <td>87.70</td>\n",
       "    </tr>\n",
       "    <tr>\n",
       "      <th>34</th>\n",
       "      <td>마요네즈</td>\n",
       "      <td>23.95</td>\n",
       "    </tr>\n",
       "    <tr>\n",
       "      <th>35</th>\n",
       "      <td>기타과당</td>\n",
       "      <td>10.01</td>\n",
       "    </tr>\n",
       "    <tr>\n",
       "      <th>36</th>\n",
       "      <td>발효식초</td>\n",
       "      <td>2.72</td>\n",
       "    </tr>\n",
       "    <tr>\n",
       "      <th>37</th>\n",
       "      <td>볶음참깨분말</td>\n",
       "      <td>2.50</td>\n",
       "    </tr>\n",
       "    <tr>\n",
       "      <th>38</th>\n",
       "      <td>냉면베이스</td>\n",
       "      <td>1.50</td>\n",
       "    </tr>\n",
       "    <tr>\n",
       "      <th>39</th>\n",
       "      <td>양조간장</td>\n",
       "      <td>1.29</td>\n",
       "    </tr>\n",
       "    <tr>\n",
       "      <th>40</th>\n",
       "      <td>볶음검정깨</td>\n",
       "      <td>0.86</td>\n",
       "    </tr>\n",
       "    <tr>\n",
       "      <th>41</th>\n",
       "      <td>정제소금</td>\n",
       "      <td>0.84</td>\n",
       "    </tr>\n",
       "    <tr>\n",
       "      <th>42</th>\n",
       "      <td>참기름</td>\n",
       "      <td>0.61</td>\n",
       "    </tr>\n",
       "    <tr>\n",
       "      <th>43</th>\n",
       "      <td>쇠고기양지베이스-P</td>\n",
       "      <td>0.30</td>\n",
       "    </tr>\n",
       "    <tr>\n",
       "      <th>44</th>\n",
       "      <td>평양지미베이스</td>\n",
       "      <td>0.30</td>\n",
       "    </tr>\n",
       "    <tr>\n",
       "      <th>45</th>\n",
       "      <td>반응풍미베이스</td>\n",
       "      <td>0.10</td>\n",
       "    </tr>\n",
       "    <tr>\n",
       "      <th>46</th>\n",
       "      <td>흑후추분말</td>\n",
       "      <td>0.07</td>\n",
       "    </tr>\n",
       "    <tr>\n",
       "      <th>47</th>\n",
       "      <td>잔탄검</td>\n",
       "      <td>0.06</td>\n",
       "    </tr>\n",
       "    <tr>\n",
       "      <th>48</th>\n",
       "      <td>밀분해추출물</td>\n",
       "      <td>0.04</td>\n",
       "    </tr>\n",
       "    <tr>\n",
       "      <th>49</th>\n",
       "      <td>아미노베이스-P</td>\n",
       "      <td>0.04</td>\n",
       "    </tr>\n",
       "    <tr>\n",
       "      <th>50</th>\n",
       "      <td>구연산</td>\n",
       "      <td>0.02</td>\n",
       "    </tr>\n",
       "    <tr>\n",
       "      <th>51</th>\n",
       "      <td>배농축액</td>\n",
       "      <td>0.02</td>\n",
       "    </tr>\n",
       "  </tbody>\n",
       "</table>\n",
       "</div>"
      ],
      "text/plain": [
       "             0      1\n",
       "0         마요네즈  36.00\n",
       "1          정제수  34.26\n",
       "2         기타과당  14.00\n",
       "3         액상과당  14.00\n",
       "4         발효식초   3.80\n",
       "5      향긋한사과식초   3.80\n",
       "6       볶음참깨분말   3.50\n",
       "7        볶음참깨분   3.50\n",
       "8         양조간장   1.80\n",
       "9        볶음검정깨   1.20\n",
       "10        정제소금   1.17\n",
       "11         참기름   0.85\n",
       "12       후추조미분   0.32\n",
       "13         잔탄검   0.09\n",
       "14      밀분해추출물   0.05\n",
       "15    아미노베이스-P   0.05\n",
       "16         정제수  34.26\n",
       "17        마요네즈  33.50\n",
       "18        액상과당  14.00\n",
       "19        기타과당  14.00\n",
       "20        발효식초   5.20\n",
       "21      볶음참깨분말   5.00\n",
       "22     향긋한사과식초   3.80\n",
       "23       볶음참깨분   3.50\n",
       "24        양조간장   1.80\n",
       "25       볶음검정깨   1.20\n",
       "26        정제소금   1.17\n",
       "27         참기름   0.85\n",
       "28       후추조미분   0.32\n",
       "29         잔탄검   0.09\n",
       "30    아미노베이스-P   0.05\n",
       "31      밀분해추출물   0.05\n",
       "32         구연산   0.03\n",
       "33         정제수  87.70\n",
       "34        마요네즈  23.95\n",
       "35        기타과당  10.01\n",
       "36        발효식초   2.72\n",
       "37      볶음참깨분말   2.50\n",
       "38       냉면베이스   1.50\n",
       "39        양조간장   1.29\n",
       "40       볶음검정깨   0.86\n",
       "41        정제소금   0.84\n",
       "42         참기름   0.61\n",
       "43  쇠고기양지베이스-P   0.30\n",
       "44     평양지미베이스   0.30\n",
       "45     반응풍미베이스   0.10\n",
       "46       흑후추분말   0.07\n",
       "47         잔탄검   0.06\n",
       "48      밀분해추출물   0.04\n",
       "49    아미노베이스-P   0.04\n",
       "50         구연산   0.02\n",
       "51        배농축액   0.02"
      ]
     },
     "execution_count": 604,
     "metadata": {},
     "output_type": "execute_result"
    }
   ],
   "source": [
    "combination_by_product_df = pd.DataFrame(new_dict)\n",
    "combination_by_product_df #df4와 같은 결과지만, 다른 표현"
   ]
  },
  {
   "cell_type": "markdown",
   "id": "3ad485a5-763a-493f-bb7b-25a819f6949e",
   "metadata": {},
   "source": [
    "입력값과 유사도가 비슷한 원재료명 rank"
   ]
  },
  {
   "cell_type": "code",
   "execution_count": 605,
   "id": "e9727801-9c20-4f5c-a8b3-c433632fa2b0",
   "metadata": {},
   "outputs": [
    {
     "name": "stdout",
     "output_type": "stream",
     "text": [
      "[('볶음흑임자갈음', 0.49649042), ('배퓨레', 0.47473556), ('크러쉬드레드페퍼분말', 0.45854115), ('크러쉬드레드페퍼', 0.45316744), ('키위가당퓨레', 0.4479907), ('데어리스프레드', 0.44440705), ('막사롬셀렉트파우더', 0.4443309), ('크랜베리퓨레', 0.44197553), ('아빠짜장베이스', 0.43479842), ('세이버리메이트1호', 0.43437526)]\n"
     ]
    }
   ],
   "source": [
    "rank = {}\n",
    "ingredient_list = []\n",
    "X_train = list(pm['원재료명'].unique())\n",
    "for i in range(len(X_train)):\n",
    "    sim = ft_model.wv.similarity(input_data1,X_train[i])\n",
    "    rank[X_train[i]]=sim\n",
    "ranked_list = sorted(rank.items(), key=lambda x: x[1],reverse=True)\n",
    "ranked_list = ranked_list[:10]\n",
    "ranked_list\n",
    "for i in range(5):\n",
    "    ingredient_list.append(ranked_list[i][0])\n",
    "print(ranked_list)"
   ]
  },
  {
   "cell_type": "markdown",
   "id": "3a3a4b18-af53-4f06-9bef-690858fdea53",
   "metadata": {},
   "source": [
    "입력과 유사한 원재료명들의 key값 리스트"
   ]
  },
  {
   "cell_type": "code",
   "execution_count": 606,
   "id": "d2775159-5bef-4058-a7ae-26eb766d9150",
   "metadata": {},
   "outputs": [
    {
     "data": {
      "text/plain": [
       "['볶음흑임자갈음',\n",
       " '배퓨레',\n",
       " '크러쉬드레드페퍼분말',\n",
       " '크러쉬드레드페퍼',\n",
       " '키위가당퓨레',\n",
       " '데어리스프레드',\n",
       " '막사롬셀렉트파우더',\n",
       " '크랜베리퓨레',\n",
       " '아빠짜장베이스',\n",
       " '세이버리메이트1호']"
      ]
     },
     "execution_count": 606,
     "metadata": {},
     "output_type": "execute_result"
    }
   ],
   "source": [
    "new_ranked_list = list(itertools.chain.from_iterable(ranked_list))\n",
    "new_ranked_list = new_ranked_list[0::2]\n",
    "new_ranked_list"
   ]
  },
  {
   "cell_type": "markdown",
   "id": "888c3c7e-92e5-4601-961c-b640d881ede2",
   "metadata": {},
   "source": [
    "위의 각 key에 대한 ingredient노드를 추출"
   ]
  },
  {
   "cell_type": "markdown",
   "id": "ebc7a02a-8665-4dd1-87a1-3632575d90be",
   "metadata": {},
   "source": [
    "##### ★ ingredient Rank3 (입력값과 유사도가 높은 원재료명 top3)"
   ]
  },
  {
   "cell_type": "code",
   "execution_count": 607,
   "id": "82d59ea6-1629-448a-af49-bd59412d0588",
   "metadata": {},
   "outputs": [
    {
     "data": {
      "text/plain": [
       "['볶음흑임자갈음', '배퓨레', '크러쉬드레드페퍼분말']"
      ]
     },
     "execution_count": 607,
     "metadata": {},
     "output_type": "execute_result"
    }
   ],
   "source": [
    "new_ranked_list[0:3]"
   ]
  },
  {
   "cell_type": "code",
   "execution_count": 608,
   "id": "a4467310-6fc3-4f69-ad3b-53e36c1d4e56",
   "metadata": {},
   "outputs": [],
   "source": [
    "ingredient = pm['원재료명'].unique().tolist()\n",
    "product = pulmu['제품명'].unique().tolist()\n",
    "\n",
    "def node2ingredient_no_ingred(input_data):\n",
    "    data= model1.wv.most_similar(input_data,topn=100)\n",
    "\n",
    "    answer_ingredient_list =[]\n",
    "\n",
    "    for i in range(len(data)):\n",
    "        for j in range(len(ingredient)):\n",
    "            if(data[i][0]==ingredient[j]):\n",
    "                answer_ingredient_list.append(data[i])\n",
    "    ingredient_node =[]\n",
    "    ingredient_node_sim =[]\n",
    "\n",
    "    for i in range(len(answer_ingredient_list)):\n",
    "        ingredient_node.append(answer_ingredient_list[i][0])\n",
    "        ingredient_node_sim.append(answer_ingredient_list[i][1])\n",
    "\n",
    "    ingredient_node_df = pd.DataFrame(data=list(zip(ingredient_node,ingredient_node_sim)),columns=['원재료','유사도'])\n",
    "    ind = ingredient_node_df[:20]\n",
    "    return list(ind['원재료'])"
   ]
  },
  {
   "cell_type": "markdown",
   "id": "63d22d03-1877-4f05-9278-b78ce20b8257",
   "metadata": {},
   "source": [
    "##### ★ ingredient Rank3's node ingredient (위의 top3 각각의 인접하는 재료 노드)"
   ]
  },
  {
   "cell_type": "code",
   "execution_count": 609,
   "id": "a8de9b05-2aea-42a7-b6a5-a1ba4b95a0ca",
   "metadata": {},
   "outputs": [
    {
     "name": "stdout",
     "output_type": "stream",
     "text": [
      "['변성전분', \"5'-리보뉴클레티드이나트륨\", '정제염', '막국수비빔베이스', '고추장(고추장발효물)', '갈릭크러쉬', '셀러리', '조미페이스트1022', '6가지과채동치미농축액', '미강유', '크러쉬드토마토', '우마미조미액', '배농축과즙액', '볶음참깨', '바질', '향신조미분-에이치에프3', '와사비소스P', 'VertexIG20', '조개엑기스NM', '땅콩분태', '월계수잎분말', '바질분말', '효모추출물(이스트엑기스)', '청피망', '맑은옥수수유', '퓨리티씨에스씨', '함흥냉면지미베이스', '배농축액(신화무역)', '네오HP', '맛뜨락참기름', '오레가노', '향신조미분-에이치에프4', '와사비소스', '헬스리고(이소말토올리고당)', '배양분말', '냉동다진마늘', '가쓰오농축액P', '소프리토', '잘라페노페퍼', '나초잘라페노스', '다이스드토마토', '나쵸슬라이스할라페노페퍼스', '향긋한사과식초', '과당', '프리미엄고추장', '사과농축액', '조미액베이스S-99', '막국수베이스분말', '현미유', '월계수잎', '진한육수베이스분말', '이스트엑기스STV', '청양고추믹스', '고쿠미조미료', '후라이드갈릭후레이크', '바질리브즈', '양조간장', '볶음흑참깨', '조개엑기스']\n"
     ]
    }
   ],
   "source": [
    "list_ = list(set(node2ingredient_no_ingred(new_ranked_list[0]) + node2ingredient_no_ingred(new_ranked_list[1]) + node2ingredient_no_ingred(new_ranked_list[2])))\n",
    "print(list_)"
   ]
  },
  {
   "cell_type": "markdown",
   "id": "687d001b-df09-4a98-8bea-cc2de80830eb",
   "metadata": {},
   "source": [
    "#### (2) 추출된 노드들을 데이터프레임화"
   ]
  },
  {
   "cell_type": "code",
   "execution_count": 610,
   "id": "3685ba7b-578e-499d-8670-503b96b81b6f",
   "metadata": {},
   "outputs": [],
   "source": [
    "combination_by_ingredient_df=pd.DataFrame(list_)"
   ]
  },
  {
   "cell_type": "markdown",
   "id": "d231fc02-29c7-42d1-ab9f-ad6cc868ab3f",
   "metadata": {},
   "source": [
    "#### (1)과 (2)를 병합"
   ]
  },
  {
   "cell_type": "markdown",
   "id": "1c23575f-db7a-4ac6-abda-25451a58d1bc",
   "metadata": {},
   "source": [
    "##### ★merge 결과"
   ]
  },
  {
   "cell_type": "code",
   "execution_count": 611,
   "id": "f9a11a97-e082-4094-814e-7c315f7886f9",
   "metadata": {},
   "outputs": [
    {
     "data": {
      "text/html": [
       "<div>\n",
       "<style scoped>\n",
       "    .dataframe tbody tr th:only-of-type {\n",
       "        vertical-align: middle;\n",
       "    }\n",
       "\n",
       "    .dataframe tbody tr th {\n",
       "        vertical-align: top;\n",
       "    }\n",
       "\n",
       "    .dataframe thead th {\n",
       "        text-align: right;\n",
       "    }\n",
       "</style>\n",
       "<table border=\"1\" class=\"dataframe\">\n",
       "  <thead>\n",
       "    <tr style=\"text-align: right;\">\n",
       "      <th></th>\n",
       "      <th>0</th>\n",
       "      <th>1</th>\n",
       "    </tr>\n",
       "  </thead>\n",
       "  <tbody>\n",
       "    <tr>\n",
       "      <th>0</th>\n",
       "      <td>향긋한사과식초</td>\n",
       "      <td>3.80</td>\n",
       "    </tr>\n",
       "    <tr>\n",
       "      <th>1</th>\n",
       "      <td>향긋한사과식초</td>\n",
       "      <td>3.80</td>\n",
       "    </tr>\n",
       "    <tr>\n",
       "      <th>2</th>\n",
       "      <td>양조간장</td>\n",
       "      <td>1.80</td>\n",
       "    </tr>\n",
       "    <tr>\n",
       "      <th>3</th>\n",
       "      <td>양조간장</td>\n",
       "      <td>1.80</td>\n",
       "    </tr>\n",
       "    <tr>\n",
       "      <th>4</th>\n",
       "      <td>양조간장</td>\n",
       "      <td>1.29</td>\n",
       "    </tr>\n",
       "  </tbody>\n",
       "</table>\n",
       "</div>"
      ],
      "text/plain": [
       "         0     1\n",
       "0  향긋한사과식초  3.80\n",
       "1  향긋한사과식초  3.80\n",
       "2     양조간장  1.80\n",
       "3     양조간장  1.80\n",
       "4     양조간장  1.29"
      ]
     },
     "execution_count": 611,
     "metadata": {},
     "output_type": "execute_result"
    }
   ],
   "source": [
    "merge_df = pd.merge(combination_by_product_df,combination_by_ingredient_df)\n",
    "merge_df"
   ]
  },
  {
   "cell_type": "markdown",
   "id": "eb49c8c1-e568-4a53-9c95-9ac8c52ed006",
   "metadata": {},
   "source": [
    "데이터프레임1의 TOP3 제품 각각의 상단에서 함량순3, 중단에서 함량순3, 하단에서 함량순3을 뽑기 위한 작업"
   ]
  },
  {
   "cell_type": "markdown",
   "id": "0f5b013a-cd9b-4c2c-85be-e22aa9390866",
   "metadata": {},
   "source": [
    "### 섹션1의 결과를 가지고 combination을 합니다."
   ]
  },
  {
   "cell_type": "code",
   "execution_count": 612,
   "id": "dc116548-f0cf-4df2-b26c-b953f610b339",
   "metadata": {},
   "outputs": [],
   "source": [
    "import itertools\n",
    "\n",
    "_dic1 = list(itertools.chain.from_iterable(dic1))\n",
    "_dic1 = _dic1[0::2]\n",
    "_dic2 = list(itertools.chain.from_iterable(dic2))\n",
    "_dic2 = _dic2[0::2]\n",
    "_dic3 = list(itertools.chain.from_iterable(dic3))\n",
    "_dic3 = _dic3[0::2]"
   ]
  },
  {
   "cell_type": "code",
   "execution_count": 613,
   "id": "16345108-19bb-4dc0-9955-dbeed439e51b",
   "metadata": {},
   "outputs": [
    {
     "data": {
      "text/plain": [
       "{'기타과당', '마요네즈', '발효식초', '액상과당', '정제수'}"
      ]
     },
     "execution_count": 613,
     "metadata": {},
     "output_type": "execute_result"
    }
   ],
   "source": [
    "result = ()\n",
    "result = set(_dic1[0:int(len(_dic1)*0.33)])\n",
    "result"
   ]
  },
  {
   "cell_type": "code",
   "execution_count": 614,
   "id": "145c5fb3-3626-4eb4-b8c4-98ec48a6f88d",
   "metadata": {},
   "outputs": [
    {
     "data": {
      "text/plain": [
       "{'기타과당', '마요네즈', '발효식초', '볶음참깨분말', '액상과당', '정제수'}"
      ]
     },
     "execution_count": 614,
     "metadata": {},
     "output_type": "execute_result"
    }
   ],
   "source": [
    "cnt = 0\n",
    "start = int(len(_dic2)*0.33)\n",
    "end = int(len(_dic2)*0.66)\n",
    "\n",
    "for v2 in _dic2[start:end] :\n",
    "    \n",
    "    result.add(v2)\n",
    "    cnt = len(result)\n",
    "    \n",
    "    if cnt == 6 :\n",
    "        break\n",
    "    \n",
    "result"
   ]
  },
  {
   "cell_type": "code",
   "execution_count": 615,
   "id": "a6054c10-328d-4230-a835-44a0e4334dbd",
   "metadata": {},
   "outputs": [],
   "source": [
    "cnt = 0\n",
    "start = int(len(_dic2)*0.66)\n",
    "\n",
    "\n",
    "for v3 in _dic3[start:] :\n",
    "    result.add(v3)\n",
    "    cnt = len(result)\n",
    "    \n",
    "    if cnt == 9 :\n",
    "        break\n",
    "    \n",
    "combination = result"
   ]
  },
  {
   "cell_type": "markdown",
   "id": "55c1948f-e110-48b9-8aeb-bab145e6c684",
   "metadata": {},
   "source": [
    "##### ▲top3 각각의 상,중,하 ingredient 추출 작업 끝"
   ]
  },
  {
   "cell_type": "markdown",
   "id": "9c84bbdf-e8d8-4f38-8183-f39c85ecb2ca",
   "metadata": {},
   "source": [
    "---------------------------------------------------------------------------------------------------"
   ]
  },
  {
   "cell_type": "markdown",
   "id": "a5d2f84b-86da-4542-a711-dd29009dafcf",
   "metadata": {},
   "source": [
    "위의 결과에 해당하는 값들만 뽑음"
   ]
  },
  {
   "cell_type": "markdown",
   "id": "b17bd90c-ad8e-4417-82c9-4b133fd5481f",
   "metadata": {},
   "source": [
    "##### ★ Combination 결과"
   ]
  },
  {
   "cell_type": "code",
   "execution_count": 616,
   "id": "3d9bb672-0fce-4ee3-a825-e628e908adc9",
   "metadata": {},
   "outputs": [
    {
     "data": {
      "text/plain": [
       "{'기타과당',\n",
       " '마요네즈',\n",
       " '반응풍미베이스',\n",
       " '발효식초',\n",
       " '볶음참깨분말',\n",
       " '액상과당',\n",
       " '정제수',\n",
       " '평양지미베이스',\n",
       " '흑후추분말'}"
      ]
     },
     "execution_count": 616,
     "metadata": {},
     "output_type": "execute_result"
    }
   ],
   "source": [
    "combination"
   ]
  },
  {
   "cell_type": "code",
   "execution_count": 617,
   "id": "aa3e3e20-440d-462d-9123-9dfd022cb07b",
   "metadata": {},
   "outputs": [],
   "source": [
    "df10 = pd.DataFrame()\n",
    "\n",
    "for i in combination:\n",
    "    df10 = df10.append(combination_by_product_df[combination_by_product_df[0]==i])\n",
    "#df10"
   ]
  },
  {
   "cell_type": "markdown",
   "id": "7aed2f8c-91f1-45e2-a04e-0b2e067f22f5",
   "metadata": {},
   "source": [
    "#MERGE데이터프레임과 조합데이터프레임을 concat하고, 중복된 값은 하나만 남김(함량은 평균내고) ->final데이터프레임"
   ]
  },
  {
   "cell_type": "markdown",
   "id": "579590f8-8c50-4ba4-ba95-a1605b27dd64",
   "metadata": {},
   "source": [
    "★ result"
   ]
  },
  {
   "cell_type": "code",
   "execution_count": 618,
   "id": "af2bbf3a-da05-436e-8a53-b091af34337e",
   "metadata": {},
   "outputs": [],
   "source": [
    "final_df = pd.concat([merge_df, df10])"
   ]
  },
  {
   "cell_type": "code",
   "execution_count": 619,
   "id": "42291cb4-0533-44c4-bfbd-1828c6bf0ea9",
   "metadata": {},
   "outputs": [],
   "source": [
    "result = final_df.groupby(0)[1].mean()\n",
    "result = pd.DataFrame(result)\n",
    "result.reset_index(drop=False, inplace= True)\n",
    "result.columns = ['원재료명','함량']"
   ]
  },
  {
   "cell_type": "code",
   "execution_count": 620,
   "id": "522d355a-5be8-4207-92dd-2177259ce375",
   "metadata": {},
   "outputs": [
    {
     "data": {
      "text/html": [
       "<div>\n",
       "<style scoped>\n",
       "    .dataframe tbody tr th:only-of-type {\n",
       "        vertical-align: middle;\n",
       "    }\n",
       "\n",
       "    .dataframe tbody tr th {\n",
       "        vertical-align: top;\n",
       "    }\n",
       "\n",
       "    .dataframe thead th {\n",
       "        text-align: right;\n",
       "    }\n",
       "</style>\n",
       "<table border=\"1\" class=\"dataframe\">\n",
       "  <thead>\n",
       "    <tr style=\"text-align: right;\">\n",
       "      <th></th>\n",
       "      <th>원재료명</th>\n",
       "      <th>함량</th>\n",
       "    </tr>\n",
       "  </thead>\n",
       "  <tbody>\n",
       "    <tr>\n",
       "      <th>0</th>\n",
       "      <td>기타과당</td>\n",
       "      <td>12.670000</td>\n",
       "    </tr>\n",
       "    <tr>\n",
       "      <th>1</th>\n",
       "      <td>마요네즈</td>\n",
       "      <td>31.150000</td>\n",
       "    </tr>\n",
       "    <tr>\n",
       "      <th>2</th>\n",
       "      <td>반응풍미베이스</td>\n",
       "      <td>0.100000</td>\n",
       "    </tr>\n",
       "    <tr>\n",
       "      <th>3</th>\n",
       "      <td>발효식초</td>\n",
       "      <td>3.906667</td>\n",
       "    </tr>\n",
       "    <tr>\n",
       "      <th>4</th>\n",
       "      <td>볶음참깨분말</td>\n",
       "      <td>3.666667</td>\n",
       "    </tr>\n",
       "    <tr>\n",
       "      <th>5</th>\n",
       "      <td>액상과당</td>\n",
       "      <td>14.000000</td>\n",
       "    </tr>\n",
       "    <tr>\n",
       "      <th>6</th>\n",
       "      <td>양조간장</td>\n",
       "      <td>1.630000</td>\n",
       "    </tr>\n",
       "    <tr>\n",
       "      <th>7</th>\n",
       "      <td>정제수</td>\n",
       "      <td>52.073333</td>\n",
       "    </tr>\n",
       "    <tr>\n",
       "      <th>8</th>\n",
       "      <td>평양지미베이스</td>\n",
       "      <td>0.300000</td>\n",
       "    </tr>\n",
       "    <tr>\n",
       "      <th>9</th>\n",
       "      <td>향긋한사과식초</td>\n",
       "      <td>3.800000</td>\n",
       "    </tr>\n",
       "    <tr>\n",
       "      <th>10</th>\n",
       "      <td>흑후추분말</td>\n",
       "      <td>0.070000</td>\n",
       "    </tr>\n",
       "  </tbody>\n",
       "</table>\n",
       "</div>"
      ],
      "text/plain": [
       "       원재료명         함량\n",
       "0      기타과당  12.670000\n",
       "1      마요네즈  31.150000\n",
       "2   반응풍미베이스   0.100000\n",
       "3      발효식초   3.906667\n",
       "4    볶음참깨분말   3.666667\n",
       "5      액상과당  14.000000\n",
       "6      양조간장   1.630000\n",
       "7       정제수  52.073333\n",
       "8   평양지미베이스   0.300000\n",
       "9   향긋한사과식초   3.800000\n",
       "10    흑후추분말   0.070000"
      ]
     },
     "execution_count": 620,
     "metadata": {},
     "output_type": "execute_result"
    }
   ],
   "source": [
    "result"
   ]
  },
  {
   "cell_type": "markdown",
   "id": "d5aa0464-513f-44e7-8e5a-3a33a572b41a",
   "metadata": {},
   "source": [
    "##### ★ 백분율 통합"
   ]
  },
  {
   "cell_type": "code",
   "execution_count": 621,
   "id": "8f121184-2526-4c90-918c-9e82c33a8de3",
   "metadata": {},
   "outputs": [
    {
     "data": {
      "text/html": [
       "<div>\n",
       "<style scoped>\n",
       "    .dataframe tbody tr th:only-of-type {\n",
       "        vertical-align: middle;\n",
       "    }\n",
       "\n",
       "    .dataframe tbody tr th {\n",
       "        vertical-align: top;\n",
       "    }\n",
       "\n",
       "    .dataframe thead th {\n",
       "        text-align: right;\n",
       "    }\n",
       "</style>\n",
       "<table border=\"1\" class=\"dataframe\">\n",
       "  <thead>\n",
       "    <tr style=\"text-align: right;\">\n",
       "      <th></th>\n",
       "      <th>원재료명</th>\n",
       "      <th>함량</th>\n",
       "    </tr>\n",
       "  </thead>\n",
       "  <tbody>\n",
       "    <tr>\n",
       "      <th>0</th>\n",
       "      <td>기타과당</td>\n",
       "      <td>10.270197</td>\n",
       "    </tr>\n",
       "    <tr>\n",
       "      <th>1</th>\n",
       "      <td>마요네즈</td>\n",
       "      <td>25.249932</td>\n",
       "    </tr>\n",
       "    <tr>\n",
       "      <th>2</th>\n",
       "      <td>반응풍미베이스</td>\n",
       "      <td>0.081059</td>\n",
       "    </tr>\n",
       "    <tr>\n",
       "      <th>3</th>\n",
       "      <td>발효식초</td>\n",
       "      <td>3.166712</td>\n",
       "    </tr>\n",
       "    <tr>\n",
       "      <th>4</th>\n",
       "      <td>볶음참깨분말</td>\n",
       "      <td>2.972170</td>\n",
       "    </tr>\n",
       "    <tr>\n",
       "      <th>5</th>\n",
       "      <td>액상과당</td>\n",
       "      <td>11.348284</td>\n",
       "    </tr>\n",
       "    <tr>\n",
       "      <th>6</th>\n",
       "      <td>양조간장</td>\n",
       "      <td>1.321265</td>\n",
       "    </tr>\n",
       "    <tr>\n",
       "      <th>7</th>\n",
       "      <td>정제수</td>\n",
       "      <td>42.210213</td>\n",
       "    </tr>\n",
       "    <tr>\n",
       "      <th>8</th>\n",
       "      <td>평양지미베이스</td>\n",
       "      <td>0.243178</td>\n",
       "    </tr>\n",
       "    <tr>\n",
       "      <th>9</th>\n",
       "      <td>향긋한사과식초</td>\n",
       "      <td>3.080249</td>\n",
       "    </tr>\n",
       "    <tr>\n",
       "      <th>10</th>\n",
       "      <td>흑후추분말</td>\n",
       "      <td>0.056741</td>\n",
       "    </tr>\n",
       "  </tbody>\n",
       "</table>\n",
       "</div>"
      ],
      "text/plain": [
       "       원재료명         함량\n",
       "0      기타과당  10.270197\n",
       "1      마요네즈  25.249932\n",
       "2   반응풍미베이스   0.081059\n",
       "3      발효식초   3.166712\n",
       "4    볶음참깨분말   2.972170\n",
       "5      액상과당  11.348284\n",
       "6      양조간장   1.321265\n",
       "7       정제수  42.210213\n",
       "8   평양지미베이스   0.243178\n",
       "9   향긋한사과식초   3.080249\n",
       "10    흑후추분말   0.056741"
      ]
     },
     "execution_count": 621,
     "metadata": {},
     "output_type": "execute_result"
    }
   ],
   "source": [
    "f_df = result.copy()\n",
    "p = 100 / f_df['함량'].sum(axis=0)\n",
    "f_df['함량'] = f_df['함량'] * p\n",
    "f_df"
   ]
  },
  {
   "cell_type": "markdown",
   "id": "d6b9231e-3d3c-4d3c-9fce-d9767260e085",
   "metadata": {},
   "source": [
    "★ 함량 재조정 (ROOT)"
   ]
  },
  {
   "cell_type": "code",
   "execution_count": 622,
   "id": "39fb06cf-c714-4084-9950-cf8851457617",
   "metadata": {},
   "outputs": [
    {
     "data": {
      "text/html": [
       "<div>\n",
       "<style scoped>\n",
       "    .dataframe tbody tr th:only-of-type {\n",
       "        vertical-align: middle;\n",
       "    }\n",
       "\n",
       "    .dataframe tbody tr th {\n",
       "        vertical-align: top;\n",
       "    }\n",
       "\n",
       "    .dataframe thead th {\n",
       "        text-align: right;\n",
       "    }\n",
       "</style>\n",
       "<table border=\"1\" class=\"dataframe\">\n",
       "  <thead>\n",
       "    <tr style=\"text-align: right;\">\n",
       "      <th></th>\n",
       "      <th>원재료명</th>\n",
       "      <th>함량</th>\n",
       "    </tr>\n",
       "  </thead>\n",
       "  <tbody>\n",
       "    <tr>\n",
       "      <th>0</th>\n",
       "      <td>기타과당</td>\n",
       "      <td>12.557955</td>\n",
       "    </tr>\n",
       "    <tr>\n",
       "      <th>1</th>\n",
       "      <td>마요네즈</td>\n",
       "      <td>19.690632</td>\n",
       "    </tr>\n",
       "    <tr>\n",
       "      <th>2</th>\n",
       "      <td>반응풍미베이스</td>\n",
       "      <td>1.115657</td>\n",
       "    </tr>\n",
       "    <tr>\n",
       "      <th>3</th>\n",
       "      <td>발효식초</td>\n",
       "      <td>6.973227</td>\n",
       "    </tr>\n",
       "    <tr>\n",
       "      <th>4</th>\n",
       "      <td>볶음참깨분말</td>\n",
       "      <td>6.755637</td>\n",
       "    </tr>\n",
       "    <tr>\n",
       "      <th>5</th>\n",
       "      <td>액상과당</td>\n",
       "      <td>13.200629</td>\n",
       "    </tr>\n",
       "    <tr>\n",
       "      <th>6</th>\n",
       "      <td>양조간장</td>\n",
       "      <td>4.504270</td>\n",
       "    </tr>\n",
       "    <tr>\n",
       "      <th>7</th>\n",
       "      <td>정제수</td>\n",
       "      <td>25.458822</td>\n",
       "    </tr>\n",
       "    <tr>\n",
       "      <th>8</th>\n",
       "      <td>평양지미베이스</td>\n",
       "      <td>1.932374</td>\n",
       "    </tr>\n",
       "    <tr>\n",
       "      <th>9</th>\n",
       "      <td>향긋한사과식초</td>\n",
       "      <td>6.877370</td>\n",
       "    </tr>\n",
       "    <tr>\n",
       "      <th>10</th>\n",
       "      <td>흑후추분말</td>\n",
       "      <td>0.933425</td>\n",
       "    </tr>\n",
       "  </tbody>\n",
       "</table>\n",
       "</div>"
      ],
      "text/plain": [
       "       원재료명         함량\n",
       "0      기타과당  12.557955\n",
       "1      마요네즈  19.690632\n",
       "2   반응풍미베이스   1.115657\n",
       "3      발효식초   6.973227\n",
       "4    볶음참깨분말   6.755637\n",
       "5      액상과당  13.200629\n",
       "6      양조간장   4.504270\n",
       "7       정제수  25.458822\n",
       "8   평양지미베이스   1.932374\n",
       "9   향긋한사과식초   6.877370\n",
       "10    흑후추분말   0.933425"
      ]
     },
     "execution_count": 622,
     "metadata": {},
     "output_type": "execute_result"
    }
   ],
   "source": [
    "import numpy as np\n",
    "\n",
    "f_df = result.copy()\n",
    "f_df['함량'] = np.sqrt(f_df['함량'])\n",
    "\n",
    "p = 100 / f_df['함량'].sum(axis=0)\n",
    "f_df['함량'] = f_df['함량'] * p\n",
    "f_df"
   ]
  }
 ],
 "metadata": {
  "kernelspec": {
   "display_name": "Python 3 (ipykernel)",
   "language": "python",
   "name": "python3"
  },
  "language_info": {
   "codemirror_mode": {
    "name": "ipython",
    "version": 3
   },
   "file_extension": ".py",
   "mimetype": "text/x-python",
   "name": "python",
   "nbconvert_exporter": "python",
   "pygments_lexer": "ipython3",
   "version": "3.9.12"
  }
 },
 "nbformat": 4,
 "nbformat_minor": 5
}
